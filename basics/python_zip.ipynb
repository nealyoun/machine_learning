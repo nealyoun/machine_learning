{
 "cells": [
  {
   "cell_type": "markdown",
   "id": "a01c5edd-99b2-497b-93bd-933e28ae0ac6",
   "metadata": {},
   "source": [
    "## python zip"
   ]
  },
  {
   "cell_type": "markdown",
   "id": "25f3a8b7-718c-48da-86f0-57e4a1f7ad84",
   "metadata": {},
   "source": [
    "##### zip 함수는 여러 개의 iterable 객체를 인자로 받고,<br> 각 객체가 담고 있는 원소를 터플의 형태로 차례로 접근할 수 있는 반복자(iterator) 반환"
   ]
  },
  {
   "cell_type": "code",
   "execution_count": 10,
   "id": "c055fd05-78cf-4a51-a1b0-d11988ab5a4b",
   "metadata": {},
   "outputs": [
    {
     "name": "stdout",
     "output_type": "stream",
     "text": [
      "(1, 'A') <class 'tuple'>\n",
      "(2, 'B') <class 'tuple'>\n",
      "(3, 'C') <class 'tuple'>\n"
     ]
    }
   ],
   "source": [
    "n = [1,2,3]\n",
    "s = [\"A\", \"B\",\"C\"]\n",
    "\n",
    "for i in zip (n, s):\n",
    "    print(i, type(i))"
   ]
  },
  {
   "cell_type": "markdown",
   "id": "c77c460e-6b5d-4387-ae76-1a561d78ab01",
   "metadata": {},
   "source": [
    "##### precautions<br>zip() 함수로 넘기는 인자의 길이가 다를 때 주의. 짧은 인자를 기준으로 데이터가 엮이고, 나머지는 버려진다"
   ]
  },
  {
   "cell_type": "code",
   "execution_count": 14,
   "id": "2dff5e3e-8cb1-4fd9-9516-bb7abc432ef7",
   "metadata": {},
   "outputs": [
    {
     "name": "stdout",
     "output_type": "stream",
     "text": [
      "(1, 'A') <class 'tuple'>\n"
     ]
    }
   ],
   "source": [
    "j = [1]\n",
    "s = [\"A\", \"B\",\"C\"]\n",
    "\n",
    "for i in zip (j, s):\n",
    "    print(i, type(i))"
   ]
  },
  {
   "cell_type": "markdown",
   "id": "7b9074bf-ca17-4b71-892d-0f69efba140b",
   "metadata": {},
   "source": [
    "##### index을 이용하여 같은 값을 출력"
   ]
  },
  {
   "cell_type": "code",
   "execution_count": 6,
   "id": "7e5dcd45-b1d9-4ec5-97d6-a3659abd1e24",
   "metadata": {},
   "outputs": [
    {
     "name": "stdout",
     "output_type": "stream",
     "text": [
      "(1, 'A')\n",
      "(2, 'B')\n",
      "(3, 'C')\n"
     ]
    }
   ],
   "source": [
    "for i in range(len(numbers)):\n",
    "    print((numbers[i], letters[i]))"
   ]
  },
  {
   "cell_type": "markdown",
   "id": "4ab09240-33cf-42c6-878f-0082d0f91783",
   "metadata": {},
   "source": [
    "##### zip()은 parallel process(iteration) 가능"
   ]
  },
  {
   "cell_type": "code",
   "execution_count": 12,
   "id": "003ac5ff-8c0f-4f17-ad9e-1f1f392ee70c",
   "metadata": {},
   "outputs": [
    {
     "name": "stdout",
     "output_type": "stream",
     "text": [
      "(1, 'A', 'a')\n",
      "(2, 'B', 'b')\n",
      "(3, 'C', 'c')\n",
      "(4, 'D', 'd')\n",
      "(5, 'E', 'e')\n"
     ]
    }
   ],
   "source": [
    "n, S, s = [1,2,3,4,5], [\"A\",\"B\",\"C\",\"D\",\"E\"], [\"a\",\"b\",\"c\",\"d\",\"e\"]\n",
    "\n",
    "for i in zip(n, S, s):\n",
    "    print(i)\n"
   ]
  },
  {
   "cell_type": "code",
   "execution_count": null,
   "id": "3277ae6a-4a24-4029-8997-cebe85b71838",
   "metadata": {},
   "outputs": [],
   "source": []
  },
  {
   "cell_type": "markdown",
   "id": "eb5e8dd0-b334-4540-acd6-d2fbe0d44bef",
   "metadata": {},
   "source": [
    "##### dictionary 변환 가능"
   ]
  },
  {
   "cell_type": "code",
   "execution_count": 13,
   "id": "186c8ede-b080-40b6-9730-126c48cbee01",
   "metadata": {},
   "outputs": [
    {
     "data": {
      "text/plain": [
       "{1: 'a', 2: 'b', 3: 'c', 4: 'd', 5: 'e'}"
      ]
     },
     "execution_count": 13,
     "metadata": {},
     "output_type": "execute_result"
    }
   ],
   "source": [
    "keys = [1,2,3,4,5]\n",
    "values = [\"a\",\"b\",\"c\",\"d\",\"e\"]\n",
    "\n",
    "dict(zip(keys, values))"
   ]
  },
  {
   "cell_type": "code",
   "execution_count": null,
   "id": "9da3a842-9fe1-4436-8b09-ad39471aa74c",
   "metadata": {},
   "outputs": [],
   "source": []
  }
 ],
 "metadata": {
  "kernelspec": {
   "display_name": "Python 3",
   "language": "python",
   "name": "python3"
  },
  "language_info": {
   "codemirror_mode": {
    "name": "ipython",
    "version": 3
   },
   "file_extension": ".py",
   "mimetype": "text/x-python",
   "name": "python",
   "nbconvert_exporter": "python",
   "pygments_lexer": "ipython3",
   "version": "3.7.6"
  }
 },
 "nbformat": 4,
 "nbformat_minor": 5
}
