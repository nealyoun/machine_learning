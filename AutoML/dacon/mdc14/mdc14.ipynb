{
 "cells": [
  {
   "cell_type": "markdown",
   "metadata": {},
   "source": [
    "# Dacon: credit card delinquency"
   ]
  },
  {
   "cell_type": "code",
   "execution_count": 2,
   "metadata": {},
   "outputs": [],
   "source": [
    "# index\n",
    "# gender: 성별\n",
    "# car: 차량 소유 여부\n",
    "# reality: 부동산 소유 여부\n",
    "# child_num: 자녀 수\n",
    "# income_total: 연간 소득\n",
    "# income_type: 소득 분류\n",
    "# \t\t\t\t\t\t\t['Commercial associate', 'Working', 'State servant', 'Pensioner', 'Student']\n",
    "# edu_type: 교육 수준\n",
    "# \t\t\t\t\t\t\t['Higher education' ,'Secondary / secondary special', 'Incomplete higher', 'Lower secondary', 'Academic degree']\n",
    "# family_type: 결혼 여부\n",
    "# \t\t\t\t\t\t\t['Married', 'Civil marriage', 'Separated', 'Single / not married', 'Widow']\n",
    "# house_type: 생활 방식\n",
    "# \t\t\t\t\t\t\t['Municipal apartment', 'House / apartment', 'With parents',\n",
    "# \t\t\t\t\t\t\t 'Co-op apartment', 'Rented apartment', 'Office apartment']\n",
    "# DAYS_BIRTH: 출생일\n",
    "# \t\t\t\t\t\t\t데이터 수집 당시 (0)부터 역으로 셈, 즉, -1은 데이터 수집일 하루 전에 태어났음을 의미\n",
    "# DAYS_EMPLOYED: 업무 시작일\n",
    "# \t\t\t\t\t\t\t데이터 수집 당시 (0)부터 역으로 셈, 즉, -1은 데이터 수집일 하루 전부터 일을 시작함을 의미\n",
    "# \t\t\t\t\t\t\t양수 값은 고용되지 않은 상태를 의미함\n",
    "# FLAG_MOBIL: 핸드폰 소유 여부\n",
    "# work_phone: 업무용 전화 소유 여부\n",
    "# phone: 전화 소유 여부\n",
    "# email: 이메일 소유 여부\n",
    "# occyp_type: 직업 유형\t\t\t\t\t\t\t\t\t\t\t\t\t\n",
    "# family_size: 가족 규모\n",
    "# begin_month: 신용카드 발급 월\n",
    "# \t\t\t\t\t\t\t데이터 수집 당시 (0)부터 역으로 셈, 즉, -1은 데이터 수집일 한 달 전에 신용카드를 발급함을 의미\n",
    "\n",
    "\n",
    "# credit: 사용자의 신용카드 대금 연체를 기준으로 한 신용도\n",
    "# \t\t\t\t\t\t\t=> 낮을 수록 높은 신용의 신용카드 사용자를 의미함\n",
    "\n"
   ]
  },
  {
   "cell_type": "code",
   "execution_count": 58,
   "metadata": {},
   "outputs": [],
   "source": [
    "from os.path import join\n",
    "\n",
    "\n",
    "import numpy as np\n",
    "import pandas as pd\n",
    "import seaborn as sns\n",
    "import matplotlib.pyplot as plt\n",
    "import warnings\n",
    "warnings.filterwarnings('ignore')\n"
   ]
  },
  {
   "cell_type": "code",
   "execution_count": 4,
   "metadata": {},
   "outputs": [
    {
     "name": "stdout",
     "output_type": "stream",
     "text": [
      "sample_submission.csv  test.csv               train.csv\n"
     ]
    }
   ],
   "source": [
    "%ls data/Credit_card"
   ]
  },
  {
   "cell_type": "markdown",
   "metadata": {},
   "source": [
    "----\n",
    "## Load Data"
   ]
  },
  {
   "cell_type": "code",
   "execution_count": 5,
   "metadata": {},
   "outputs": [],
   "source": [
    "path = \"./data/Credit_card/\"\n",
    "\n",
    "data = pd.read_csv(join(path, \"train.csv\"))\n",
    "test = pd.read_csv(join(path, \"test.csv\"))\n",
    "\n",
    "del data[\"index\"], test[\"index\"]"
   ]
  },
  {
   "cell_type": "code",
   "execution_count": 6,
   "metadata": {},
   "outputs": [
    {
     "name": "stdout",
     "output_type": "stream",
     "text": [
      "['credit']\n"
     ]
    },
    {
     "data": {
      "text/plain": [
       "((26457, 18), (10000, 18), (26457,))"
      ]
     },
     "execution_count": 6,
     "metadata": {},
     "output_type": "execute_result"
    }
   ],
   "source": [
    "target_column = list(set(data.columns) - set(test.columns))\n",
    "print(target_column)\n",
    "\n",
    "target = data[target_column[0]].copy()\n",
    "\n",
    "del data[target_column[0]]\n",
    "\n",
    "data.shape, test.shape, target.shape\n"
   ]
  },
  {
   "cell_type": "markdown",
   "metadata": {},
   "source": [
    "-----"
   ]
  },
  {
   "cell_type": "markdown",
   "metadata": {},
   "source": [
    "### EDA"
   ]
  },
  {
   "cell_type": "code",
   "execution_count": 7,
   "metadata": {},
   "outputs": [
    {
     "data": {
      "text/html": [
       "<div>\n",
       "<style scoped>\n",
       "    .dataframe tbody tr th:only-of-type {\n",
       "        vertical-align: middle;\n",
       "    }\n",
       "\n",
       "    .dataframe tbody tr th {\n",
       "        vertical-align: top;\n",
       "    }\n",
       "\n",
       "    .dataframe thead th {\n",
       "        text-align: right;\n",
       "    }\n",
       "</style>\n",
       "<table border=\"1\" class=\"dataframe\">\n",
       "  <thead>\n",
       "    <tr style=\"text-align: right;\">\n",
       "      <th></th>\n",
       "      <th>gender</th>\n",
       "      <th>car</th>\n",
       "      <th>reality</th>\n",
       "      <th>child_num</th>\n",
       "      <th>income_total</th>\n",
       "      <th>income_type</th>\n",
       "      <th>edu_type</th>\n",
       "      <th>family_type</th>\n",
       "      <th>house_type</th>\n",
       "      <th>DAYS_BIRTH</th>\n",
       "      <th>DAYS_EMPLOYED</th>\n",
       "      <th>FLAG_MOBIL</th>\n",
       "      <th>work_phone</th>\n",
       "      <th>phone</th>\n",
       "      <th>email</th>\n",
       "      <th>occyp_type</th>\n",
       "      <th>family_size</th>\n",
       "      <th>begin_month</th>\n",
       "    </tr>\n",
       "  </thead>\n",
       "  <tbody>\n",
       "    <tr>\n",
       "      <th>0</th>\n",
       "      <td>F</td>\n",
       "      <td>N</td>\n",
       "      <td>N</td>\n",
       "      <td>0</td>\n",
       "      <td>202500.0</td>\n",
       "      <td>Commercial associate</td>\n",
       "      <td>Higher education</td>\n",
       "      <td>Married</td>\n",
       "      <td>Municipal apartment</td>\n",
       "      <td>-13899</td>\n",
       "      <td>-4709</td>\n",
       "      <td>1</td>\n",
       "      <td>0</td>\n",
       "      <td>0</td>\n",
       "      <td>0</td>\n",
       "      <td>NaN</td>\n",
       "      <td>2.0</td>\n",
       "      <td>-6.0</td>\n",
       "    </tr>\n",
       "    <tr>\n",
       "      <th>1</th>\n",
       "      <td>F</td>\n",
       "      <td>N</td>\n",
       "      <td>Y</td>\n",
       "      <td>1</td>\n",
       "      <td>247500.0</td>\n",
       "      <td>Commercial associate</td>\n",
       "      <td>Secondary / secondary special</td>\n",
       "      <td>Civil marriage</td>\n",
       "      <td>House / apartment</td>\n",
       "      <td>-11380</td>\n",
       "      <td>-1540</td>\n",
       "      <td>1</td>\n",
       "      <td>0</td>\n",
       "      <td>0</td>\n",
       "      <td>1</td>\n",
       "      <td>Laborers</td>\n",
       "      <td>3.0</td>\n",
       "      <td>-5.0</td>\n",
       "    </tr>\n",
       "    <tr>\n",
       "      <th>2</th>\n",
       "      <td>M</td>\n",
       "      <td>Y</td>\n",
       "      <td>Y</td>\n",
       "      <td>0</td>\n",
       "      <td>450000.0</td>\n",
       "      <td>Working</td>\n",
       "      <td>Higher education</td>\n",
       "      <td>Married</td>\n",
       "      <td>House / apartment</td>\n",
       "      <td>-19087</td>\n",
       "      <td>-4434</td>\n",
       "      <td>1</td>\n",
       "      <td>0</td>\n",
       "      <td>1</td>\n",
       "      <td>0</td>\n",
       "      <td>Managers</td>\n",
       "      <td>2.0</td>\n",
       "      <td>-22.0</td>\n",
       "    </tr>\n",
       "    <tr>\n",
       "      <th>3</th>\n",
       "      <td>F</td>\n",
       "      <td>N</td>\n",
       "      <td>Y</td>\n",
       "      <td>0</td>\n",
       "      <td>202500.0</td>\n",
       "      <td>Commercial associate</td>\n",
       "      <td>Secondary / secondary special</td>\n",
       "      <td>Married</td>\n",
       "      <td>House / apartment</td>\n",
       "      <td>-15088</td>\n",
       "      <td>-2092</td>\n",
       "      <td>1</td>\n",
       "      <td>0</td>\n",
       "      <td>1</td>\n",
       "      <td>0</td>\n",
       "      <td>Sales staff</td>\n",
       "      <td>2.0</td>\n",
       "      <td>-37.0</td>\n",
       "    </tr>\n",
       "    <tr>\n",
       "      <th>4</th>\n",
       "      <td>F</td>\n",
       "      <td>Y</td>\n",
       "      <td>Y</td>\n",
       "      <td>0</td>\n",
       "      <td>157500.0</td>\n",
       "      <td>State servant</td>\n",
       "      <td>Higher education</td>\n",
       "      <td>Married</td>\n",
       "      <td>House / apartment</td>\n",
       "      <td>-15037</td>\n",
       "      <td>-2105</td>\n",
       "      <td>1</td>\n",
       "      <td>0</td>\n",
       "      <td>0</td>\n",
       "      <td>0</td>\n",
       "      <td>Managers</td>\n",
       "      <td>2.0</td>\n",
       "      <td>-26.0</td>\n",
       "    </tr>\n",
       "  </tbody>\n",
       "</table>\n",
       "</div>"
      ],
      "text/plain": [
       "  gender car reality  child_num  income_total           income_type  \\\n",
       "0      F   N       N          0      202500.0  Commercial associate   \n",
       "1      F   N       Y          1      247500.0  Commercial associate   \n",
       "2      M   Y       Y          0      450000.0               Working   \n",
       "3      F   N       Y          0      202500.0  Commercial associate   \n",
       "4      F   Y       Y          0      157500.0         State servant   \n",
       "\n",
       "                        edu_type     family_type           house_type  \\\n",
       "0               Higher education         Married  Municipal apartment   \n",
       "1  Secondary / secondary special  Civil marriage    House / apartment   \n",
       "2               Higher education         Married    House / apartment   \n",
       "3  Secondary / secondary special         Married    House / apartment   \n",
       "4               Higher education         Married    House / apartment   \n",
       "\n",
       "   DAYS_BIRTH  DAYS_EMPLOYED  FLAG_MOBIL  work_phone  phone  email  \\\n",
       "0      -13899          -4709           1           0      0      0   \n",
       "1      -11380          -1540           1           0      0      1   \n",
       "2      -19087          -4434           1           0      1      0   \n",
       "3      -15088          -2092           1           0      1      0   \n",
       "4      -15037          -2105           1           0      0      0   \n",
       "\n",
       "    occyp_type  family_size  begin_month  \n",
       "0          NaN          2.0         -6.0  \n",
       "1     Laborers          3.0         -5.0  \n",
       "2     Managers          2.0        -22.0  \n",
       "3  Sales staff          2.0        -37.0  \n",
       "4     Managers          2.0        -26.0  "
      ]
     },
     "execution_count": 7,
     "metadata": {},
     "output_type": "execute_result"
    }
   ],
   "source": [
    "data.head()"
   ]
  },
  {
   "cell_type": "code",
   "execution_count": 8,
   "metadata": {},
   "outputs": [
    {
     "data": {
      "text/html": [
       "<div>\n",
       "<style scoped>\n",
       "    .dataframe tbody tr th:only-of-type {\n",
       "        vertical-align: middle;\n",
       "    }\n",
       "\n",
       "    .dataframe tbody tr th {\n",
       "        vertical-align: top;\n",
       "    }\n",
       "\n",
       "    .dataframe thead th {\n",
       "        text-align: right;\n",
       "    }\n",
       "</style>\n",
       "<table border=\"1\" class=\"dataframe\">\n",
       "  <thead>\n",
       "    <tr style=\"text-align: right;\">\n",
       "      <th></th>\n",
       "      <th>gender</th>\n",
       "      <th>car</th>\n",
       "      <th>reality</th>\n",
       "      <th>child_num</th>\n",
       "      <th>income_total</th>\n",
       "      <th>income_type</th>\n",
       "      <th>edu_type</th>\n",
       "      <th>family_type</th>\n",
       "      <th>house_type</th>\n",
       "      <th>DAYS_BIRTH</th>\n",
       "      <th>DAYS_EMPLOYED</th>\n",
       "      <th>FLAG_MOBIL</th>\n",
       "      <th>work_phone</th>\n",
       "      <th>phone</th>\n",
       "      <th>email</th>\n",
       "      <th>occyp_type</th>\n",
       "      <th>family_size</th>\n",
       "      <th>begin_month</th>\n",
       "    </tr>\n",
       "  </thead>\n",
       "  <tbody>\n",
       "    <tr>\n",
       "      <th>0</th>\n",
       "      <td>M</td>\n",
       "      <td>Y</td>\n",
       "      <td>N</td>\n",
       "      <td>0</td>\n",
       "      <td>112500.0</td>\n",
       "      <td>Pensioner</td>\n",
       "      <td>Secondary / secondary special</td>\n",
       "      <td>Civil marriage</td>\n",
       "      <td>House / apartment</td>\n",
       "      <td>-21990</td>\n",
       "      <td>365243</td>\n",
       "      <td>1</td>\n",
       "      <td>0</td>\n",
       "      <td>1</td>\n",
       "      <td>0</td>\n",
       "      <td>NaN</td>\n",
       "      <td>2.0</td>\n",
       "      <td>-60.0</td>\n",
       "    </tr>\n",
       "    <tr>\n",
       "      <th>1</th>\n",
       "      <td>F</td>\n",
       "      <td>N</td>\n",
       "      <td>Y</td>\n",
       "      <td>0</td>\n",
       "      <td>135000.0</td>\n",
       "      <td>State servant</td>\n",
       "      <td>Higher education</td>\n",
       "      <td>Married</td>\n",
       "      <td>House / apartment</td>\n",
       "      <td>-18964</td>\n",
       "      <td>-8671</td>\n",
       "      <td>1</td>\n",
       "      <td>0</td>\n",
       "      <td>1</td>\n",
       "      <td>0</td>\n",
       "      <td>Core staff</td>\n",
       "      <td>2.0</td>\n",
       "      <td>-36.0</td>\n",
       "    </tr>\n",
       "    <tr>\n",
       "      <th>2</th>\n",
       "      <td>F</td>\n",
       "      <td>N</td>\n",
       "      <td>Y</td>\n",
       "      <td>0</td>\n",
       "      <td>69372.0</td>\n",
       "      <td>Working</td>\n",
       "      <td>Secondary / secondary special</td>\n",
       "      <td>Married</td>\n",
       "      <td>House / apartment</td>\n",
       "      <td>-15887</td>\n",
       "      <td>-217</td>\n",
       "      <td>1</td>\n",
       "      <td>1</td>\n",
       "      <td>1</td>\n",
       "      <td>0</td>\n",
       "      <td>Laborers</td>\n",
       "      <td>2.0</td>\n",
       "      <td>-40.0</td>\n",
       "    </tr>\n",
       "    <tr>\n",
       "      <th>3</th>\n",
       "      <td>M</td>\n",
       "      <td>Y</td>\n",
       "      <td>N</td>\n",
       "      <td>0</td>\n",
       "      <td>112500.0</td>\n",
       "      <td>Commercial associate</td>\n",
       "      <td>Secondary / secondary special</td>\n",
       "      <td>Married</td>\n",
       "      <td>House / apartment</td>\n",
       "      <td>-19270</td>\n",
       "      <td>-2531</td>\n",
       "      <td>1</td>\n",
       "      <td>1</td>\n",
       "      <td>0</td>\n",
       "      <td>0</td>\n",
       "      <td>Drivers</td>\n",
       "      <td>2.0</td>\n",
       "      <td>-41.0</td>\n",
       "    </tr>\n",
       "    <tr>\n",
       "      <th>4</th>\n",
       "      <td>F</td>\n",
       "      <td>Y</td>\n",
       "      <td>Y</td>\n",
       "      <td>0</td>\n",
       "      <td>225000.0</td>\n",
       "      <td>State servant</td>\n",
       "      <td>Higher education</td>\n",
       "      <td>Married</td>\n",
       "      <td>House / apartment</td>\n",
       "      <td>-17822</td>\n",
       "      <td>-9385</td>\n",
       "      <td>1</td>\n",
       "      <td>1</td>\n",
       "      <td>0</td>\n",
       "      <td>0</td>\n",
       "      <td>Managers</td>\n",
       "      <td>2.0</td>\n",
       "      <td>-8.0</td>\n",
       "    </tr>\n",
       "  </tbody>\n",
       "</table>\n",
       "</div>"
      ],
      "text/plain": [
       "  gender car reality  child_num  income_total           income_type  \\\n",
       "0      M   Y       N          0      112500.0             Pensioner   \n",
       "1      F   N       Y          0      135000.0         State servant   \n",
       "2      F   N       Y          0       69372.0               Working   \n",
       "3      M   Y       N          0      112500.0  Commercial associate   \n",
       "4      F   Y       Y          0      225000.0         State servant   \n",
       "\n",
       "                        edu_type     family_type         house_type  \\\n",
       "0  Secondary / secondary special  Civil marriage  House / apartment   \n",
       "1               Higher education         Married  House / apartment   \n",
       "2  Secondary / secondary special         Married  House / apartment   \n",
       "3  Secondary / secondary special         Married  House / apartment   \n",
       "4               Higher education         Married  House / apartment   \n",
       "\n",
       "   DAYS_BIRTH  DAYS_EMPLOYED  FLAG_MOBIL  work_phone  phone  email  \\\n",
       "0      -21990         365243           1           0      1      0   \n",
       "1      -18964          -8671           1           0      1      0   \n",
       "2      -15887           -217           1           1      1      0   \n",
       "3      -19270          -2531           1           1      0      0   \n",
       "4      -17822          -9385           1           1      0      0   \n",
       "\n",
       "   occyp_type  family_size  begin_month  \n",
       "0         NaN          2.0        -60.0  \n",
       "1  Core staff          2.0        -36.0  \n",
       "2    Laborers          2.0        -40.0  \n",
       "3     Drivers          2.0        -41.0  \n",
       "4    Managers          2.0         -8.0  "
      ]
     },
     "execution_count": 8,
     "metadata": {},
     "output_type": "execute_result"
    }
   ],
   "source": [
    "test.head()"
   ]
  },
  {
   "cell_type": "code",
   "execution_count": 9,
   "metadata": {},
   "outputs": [
    {
     "data": {
      "text/html": [
       "<div>\n",
       "<style scoped>\n",
       "    .dataframe tbody tr th:only-of-type {\n",
       "        vertical-align: middle;\n",
       "    }\n",
       "\n",
       "    .dataframe tbody tr th {\n",
       "        vertical-align: top;\n",
       "    }\n",
       "\n",
       "    .dataframe thead th {\n",
       "        text-align: right;\n",
       "    }\n",
       "</style>\n",
       "<table border=\"1\" class=\"dataframe\">\n",
       "  <thead>\n",
       "    <tr style=\"text-align: right;\">\n",
       "      <th></th>\n",
       "      <th>child_num</th>\n",
       "      <th>income_total</th>\n",
       "      <th>DAYS_BIRTH</th>\n",
       "      <th>DAYS_EMPLOYED</th>\n",
       "      <th>FLAG_MOBIL</th>\n",
       "      <th>work_phone</th>\n",
       "      <th>phone</th>\n",
       "      <th>email</th>\n",
       "      <th>family_size</th>\n",
       "      <th>begin_month</th>\n",
       "    </tr>\n",
       "  </thead>\n",
       "  <tbody>\n",
       "    <tr>\n",
       "      <th>count</th>\n",
       "      <td>26457.000000</td>\n",
       "      <td>2.645700e+04</td>\n",
       "      <td>26457.000000</td>\n",
       "      <td>26457.000000</td>\n",
       "      <td>26457.0</td>\n",
       "      <td>26457.000000</td>\n",
       "      <td>26457.000000</td>\n",
       "      <td>26457.000000</td>\n",
       "      <td>26457.000000</td>\n",
       "      <td>26457.000000</td>\n",
       "    </tr>\n",
       "    <tr>\n",
       "      <th>mean</th>\n",
       "      <td>0.428658</td>\n",
       "      <td>1.873065e+05</td>\n",
       "      <td>-15958.053899</td>\n",
       "      <td>59068.750728</td>\n",
       "      <td>1.0</td>\n",
       "      <td>0.224742</td>\n",
       "      <td>0.294251</td>\n",
       "      <td>0.091280</td>\n",
       "      <td>2.196848</td>\n",
       "      <td>-26.123294</td>\n",
       "    </tr>\n",
       "    <tr>\n",
       "      <th>std</th>\n",
       "      <td>0.747326</td>\n",
       "      <td>1.018784e+05</td>\n",
       "      <td>4201.589022</td>\n",
       "      <td>137475.427503</td>\n",
       "      <td>0.0</td>\n",
       "      <td>0.417420</td>\n",
       "      <td>0.455714</td>\n",
       "      <td>0.288013</td>\n",
       "      <td>0.916717</td>\n",
       "      <td>16.559550</td>\n",
       "    </tr>\n",
       "    <tr>\n",
       "      <th>min</th>\n",
       "      <td>0.000000</td>\n",
       "      <td>2.700000e+04</td>\n",
       "      <td>-25152.000000</td>\n",
       "      <td>-15713.000000</td>\n",
       "      <td>1.0</td>\n",
       "      <td>0.000000</td>\n",
       "      <td>0.000000</td>\n",
       "      <td>0.000000</td>\n",
       "      <td>1.000000</td>\n",
       "      <td>-60.000000</td>\n",
       "    </tr>\n",
       "    <tr>\n",
       "      <th>25%</th>\n",
       "      <td>0.000000</td>\n",
       "      <td>1.215000e+05</td>\n",
       "      <td>-19431.000000</td>\n",
       "      <td>-3153.000000</td>\n",
       "      <td>1.0</td>\n",
       "      <td>0.000000</td>\n",
       "      <td>0.000000</td>\n",
       "      <td>0.000000</td>\n",
       "      <td>2.000000</td>\n",
       "      <td>-39.000000</td>\n",
       "    </tr>\n",
       "    <tr>\n",
       "      <th>50%</th>\n",
       "      <td>0.000000</td>\n",
       "      <td>1.575000e+05</td>\n",
       "      <td>-15547.000000</td>\n",
       "      <td>-1539.000000</td>\n",
       "      <td>1.0</td>\n",
       "      <td>0.000000</td>\n",
       "      <td>0.000000</td>\n",
       "      <td>0.000000</td>\n",
       "      <td>2.000000</td>\n",
       "      <td>-24.000000</td>\n",
       "    </tr>\n",
       "    <tr>\n",
       "      <th>75%</th>\n",
       "      <td>1.000000</td>\n",
       "      <td>2.250000e+05</td>\n",
       "      <td>-12446.000000</td>\n",
       "      <td>-407.000000</td>\n",
       "      <td>1.0</td>\n",
       "      <td>0.000000</td>\n",
       "      <td>1.000000</td>\n",
       "      <td>0.000000</td>\n",
       "      <td>3.000000</td>\n",
       "      <td>-12.000000</td>\n",
       "    </tr>\n",
       "    <tr>\n",
       "      <th>max</th>\n",
       "      <td>19.000000</td>\n",
       "      <td>1.575000e+06</td>\n",
       "      <td>-7705.000000</td>\n",
       "      <td>365243.000000</td>\n",
       "      <td>1.0</td>\n",
       "      <td>1.000000</td>\n",
       "      <td>1.000000</td>\n",
       "      <td>1.000000</td>\n",
       "      <td>20.000000</td>\n",
       "      <td>0.000000</td>\n",
       "    </tr>\n",
       "  </tbody>\n",
       "</table>\n",
       "</div>"
      ],
      "text/plain": [
       "          child_num  income_total    DAYS_BIRTH  DAYS_EMPLOYED  FLAG_MOBIL  \\\n",
       "count  26457.000000  2.645700e+04  26457.000000   26457.000000     26457.0   \n",
       "mean       0.428658  1.873065e+05 -15958.053899   59068.750728         1.0   \n",
       "std        0.747326  1.018784e+05   4201.589022  137475.427503         0.0   \n",
       "min        0.000000  2.700000e+04 -25152.000000  -15713.000000         1.0   \n",
       "25%        0.000000  1.215000e+05 -19431.000000   -3153.000000         1.0   \n",
       "50%        0.000000  1.575000e+05 -15547.000000   -1539.000000         1.0   \n",
       "75%        1.000000  2.250000e+05 -12446.000000    -407.000000         1.0   \n",
       "max       19.000000  1.575000e+06  -7705.000000  365243.000000         1.0   \n",
       "\n",
       "         work_phone         phone         email   family_size   begin_month  \n",
       "count  26457.000000  26457.000000  26457.000000  26457.000000  26457.000000  \n",
       "mean       0.224742      0.294251      0.091280      2.196848    -26.123294  \n",
       "std        0.417420      0.455714      0.288013      0.916717     16.559550  \n",
       "min        0.000000      0.000000      0.000000      1.000000    -60.000000  \n",
       "25%        0.000000      0.000000      0.000000      2.000000    -39.000000  \n",
       "50%        0.000000      0.000000      0.000000      2.000000    -24.000000  \n",
       "75%        0.000000      1.000000      0.000000      3.000000    -12.000000  \n",
       "max        1.000000      1.000000      1.000000     20.000000      0.000000  "
      ]
     },
     "execution_count": 9,
     "metadata": {},
     "output_type": "execute_result"
    }
   ],
   "source": [
    "data.describe()"
   ]
  },
  {
   "cell_type": "code",
   "execution_count": 10,
   "metadata": {},
   "outputs": [
    {
     "data": {
      "text/html": [
       "<div>\n",
       "<style scoped>\n",
       "    .dataframe tbody tr th:only-of-type {\n",
       "        vertical-align: middle;\n",
       "    }\n",
       "\n",
       "    .dataframe tbody tr th {\n",
       "        vertical-align: top;\n",
       "    }\n",
       "\n",
       "    .dataframe thead th {\n",
       "        text-align: right;\n",
       "    }\n",
       "</style>\n",
       "<table border=\"1\" class=\"dataframe\">\n",
       "  <thead>\n",
       "    <tr style=\"text-align: right;\">\n",
       "      <th></th>\n",
       "      <th>child_num</th>\n",
       "      <th>income_total</th>\n",
       "      <th>DAYS_BIRTH</th>\n",
       "      <th>DAYS_EMPLOYED</th>\n",
       "      <th>FLAG_MOBIL</th>\n",
       "      <th>work_phone</th>\n",
       "      <th>phone</th>\n",
       "      <th>email</th>\n",
       "      <th>family_size</th>\n",
       "      <th>begin_month</th>\n",
       "    </tr>\n",
       "  </thead>\n",
       "  <tbody>\n",
       "    <tr>\n",
       "      <th>count</th>\n",
       "      <td>10000.000000</td>\n",
       "      <td>1.000000e+04</td>\n",
       "      <td>10000.000000</td>\n",
       "      <td>10000.000000</td>\n",
       "      <td>10000.0</td>\n",
       "      <td>10000.000000</td>\n",
       "      <td>10000.000000</td>\n",
       "      <td>10000.000000</td>\n",
       "      <td>10000.000000</td>\n",
       "      <td>10000.000000</td>\n",
       "    </tr>\n",
       "    <tr>\n",
       "      <th>mean</th>\n",
       "      <td>0.434700</td>\n",
       "      <td>1.850433e+05</td>\n",
       "      <td>-16020.466400</td>\n",
       "      <td>59776.690400</td>\n",
       "      <td>1.0</td>\n",
       "      <td>0.227600</td>\n",
       "      <td>0.296300</td>\n",
       "      <td>0.085600</td>\n",
       "      <td>2.202700</td>\n",
       "      <td>-26.272400</td>\n",
       "    </tr>\n",
       "    <tr>\n",
       "      <th>std</th>\n",
       "      <td>0.729102</td>\n",
       "      <td>1.015398e+05</td>\n",
       "      <td>4197.672887</td>\n",
       "      <td>138121.224504</td>\n",
       "      <td>0.0</td>\n",
       "      <td>0.419304</td>\n",
       "      <td>0.456648</td>\n",
       "      <td>0.279786</td>\n",
       "      <td>0.898272</td>\n",
       "      <td>16.348557</td>\n",
       "    </tr>\n",
       "    <tr>\n",
       "      <th>min</th>\n",
       "      <td>0.000000</td>\n",
       "      <td>2.700000e+04</td>\n",
       "      <td>-25152.000000</td>\n",
       "      <td>-15661.000000</td>\n",
       "      <td>1.0</td>\n",
       "      <td>0.000000</td>\n",
       "      <td>0.000000</td>\n",
       "      <td>0.000000</td>\n",
       "      <td>1.000000</td>\n",
       "      <td>-60.000000</td>\n",
       "    </tr>\n",
       "    <tr>\n",
       "      <th>25%</th>\n",
       "      <td>0.000000</td>\n",
       "      <td>1.215000e+05</td>\n",
       "      <td>-19483.250000</td>\n",
       "      <td>-3153.000000</td>\n",
       "      <td>1.0</td>\n",
       "      <td>0.000000</td>\n",
       "      <td>0.000000</td>\n",
       "      <td>0.000000</td>\n",
       "      <td>2.000000</td>\n",
       "      <td>-39.000000</td>\n",
       "    </tr>\n",
       "    <tr>\n",
       "      <th>50%</th>\n",
       "      <td>0.000000</td>\n",
       "      <td>1.575000e+05</td>\n",
       "      <td>-15606.000000</td>\n",
       "      <td>-1577.000000</td>\n",
       "      <td>1.0</td>\n",
       "      <td>0.000000</td>\n",
       "      <td>0.000000</td>\n",
       "      <td>0.000000</td>\n",
       "      <td>2.000000</td>\n",
       "      <td>-25.000000</td>\n",
       "    </tr>\n",
       "    <tr>\n",
       "      <th>75%</th>\n",
       "      <td>1.000000</td>\n",
       "      <td>2.250000e+05</td>\n",
       "      <td>-12539.000000</td>\n",
       "      <td>-410.000000</td>\n",
       "      <td>1.0</td>\n",
       "      <td>0.000000</td>\n",
       "      <td>1.000000</td>\n",
       "      <td>0.000000</td>\n",
       "      <td>3.000000</td>\n",
       "      <td>-12.000000</td>\n",
       "    </tr>\n",
       "    <tr>\n",
       "      <th>max</th>\n",
       "      <td>5.000000</td>\n",
       "      <td>1.575000e+06</td>\n",
       "      <td>-7489.000000</td>\n",
       "      <td>365243.000000</td>\n",
       "      <td>1.0</td>\n",
       "      <td>1.000000</td>\n",
       "      <td>1.000000</td>\n",
       "      <td>1.000000</td>\n",
       "      <td>7.000000</td>\n",
       "      <td>0.000000</td>\n",
       "    </tr>\n",
       "  </tbody>\n",
       "</table>\n",
       "</div>"
      ],
      "text/plain": [
       "          child_num  income_total    DAYS_BIRTH  DAYS_EMPLOYED  FLAG_MOBIL  \\\n",
       "count  10000.000000  1.000000e+04  10000.000000   10000.000000     10000.0   \n",
       "mean       0.434700  1.850433e+05 -16020.466400   59776.690400         1.0   \n",
       "std        0.729102  1.015398e+05   4197.672887  138121.224504         0.0   \n",
       "min        0.000000  2.700000e+04 -25152.000000  -15661.000000         1.0   \n",
       "25%        0.000000  1.215000e+05 -19483.250000   -3153.000000         1.0   \n",
       "50%        0.000000  1.575000e+05 -15606.000000   -1577.000000         1.0   \n",
       "75%        1.000000  2.250000e+05 -12539.000000    -410.000000         1.0   \n",
       "max        5.000000  1.575000e+06  -7489.000000  365243.000000         1.0   \n",
       "\n",
       "         work_phone         phone         email   family_size   begin_month  \n",
       "count  10000.000000  10000.000000  10000.000000  10000.000000  10000.000000  \n",
       "mean       0.227600      0.296300      0.085600      2.202700    -26.272400  \n",
       "std        0.419304      0.456648      0.279786      0.898272     16.348557  \n",
       "min        0.000000      0.000000      0.000000      1.000000    -60.000000  \n",
       "25%        0.000000      0.000000      0.000000      2.000000    -39.000000  \n",
       "50%        0.000000      0.000000      0.000000      2.000000    -25.000000  \n",
       "75%        0.000000      1.000000      0.000000      3.000000    -12.000000  \n",
       "max        1.000000      1.000000      1.000000      7.000000      0.000000  "
      ]
     },
     "execution_count": 10,
     "metadata": {},
     "output_type": "execute_result"
    }
   ],
   "source": [
    "test.describe()"
   ]
  },
  {
   "cell_type": "markdown",
   "metadata": {},
   "source": [
    "#### dtypes\n",
    "data: dtypes: float64(3), int64(7), object(8)<br> test: dtypes: float64(3), int64(7), object(8)\n",
    "\n",
    "<br>occyp_type(NA included column)"
   ]
  },
  {
   "cell_type": "code",
   "execution_count": 11,
   "metadata": {},
   "outputs": [
    {
     "name": "stdout",
     "output_type": "stream",
     "text": [
      "<class 'pandas.core.frame.DataFrame'>\n",
      "RangeIndex: 26457 entries, 0 to 26456\n",
      "Data columns (total 18 columns):\n",
      " #   Column         Non-Null Count  Dtype  \n",
      "---  ------         --------------  -----  \n",
      " 0   gender         26457 non-null  object \n",
      " 1   car            26457 non-null  object \n",
      " 2   reality        26457 non-null  object \n",
      " 3   child_num      26457 non-null  int64  \n",
      " 4   income_total   26457 non-null  float64\n",
      " 5   income_type    26457 non-null  object \n",
      " 6   edu_type       26457 non-null  object \n",
      " 7   family_type    26457 non-null  object \n",
      " 8   house_type     26457 non-null  object \n",
      " 9   DAYS_BIRTH     26457 non-null  int64  \n",
      " 10  DAYS_EMPLOYED  26457 non-null  int64  \n",
      " 11  FLAG_MOBIL     26457 non-null  int64  \n",
      " 12  work_phone     26457 non-null  int64  \n",
      " 13  phone          26457 non-null  int64  \n",
      " 14  email          26457 non-null  int64  \n",
      " 15  occyp_type     18286 non-null  object \n",
      " 16  family_size    26457 non-null  float64\n",
      " 17  begin_month    26457 non-null  float64\n",
      "dtypes: float64(3), int64(7), object(8)\n",
      "memory usage: 3.6+ MB\n"
     ]
    }
   ],
   "source": [
    "data.info()"
   ]
  },
  {
   "cell_type": "code",
   "execution_count": 12,
   "metadata": {},
   "outputs": [
    {
     "name": "stdout",
     "output_type": "stream",
     "text": [
      "<class 'pandas.core.frame.DataFrame'>\n",
      "RangeIndex: 10000 entries, 0 to 9999\n",
      "Data columns (total 18 columns):\n",
      " #   Column         Non-Null Count  Dtype  \n",
      "---  ------         --------------  -----  \n",
      " 0   gender         10000 non-null  object \n",
      " 1   car            10000 non-null  object \n",
      " 2   reality        10000 non-null  object \n",
      " 3   child_num      10000 non-null  int64  \n",
      " 4   income_total   10000 non-null  float64\n",
      " 5   income_type    10000 non-null  object \n",
      " 6   edu_type       10000 non-null  object \n",
      " 7   family_type    10000 non-null  object \n",
      " 8   house_type     10000 non-null  object \n",
      " 9   DAYS_BIRTH     10000 non-null  int64  \n",
      " 10  DAYS_EMPLOYED  10000 non-null  int64  \n",
      " 11  FLAG_MOBIL     10000 non-null  int64  \n",
      " 12  work_phone     10000 non-null  int64  \n",
      " 13  phone          10000 non-null  int64  \n",
      " 14  email          10000 non-null  int64  \n",
      " 15  occyp_type     6848 non-null   object \n",
      " 16  family_size    10000 non-null  float64\n",
      " 17  begin_month    10000 non-null  float64\n",
      "dtypes: float64(3), int64(7), object(8)\n",
      "memory usage: 1.4+ MB\n"
     ]
    }
   ],
   "source": [
    "test.info()"
   ]
  },
  {
   "cell_type": "markdown",
   "metadata": {},
   "source": [
    "#### no. NA"
   ]
  },
  {
   "cell_type": "code",
   "execution_count": 13,
   "metadata": {},
   "outputs": [
    {
     "data": {
      "text/plain": [
       "gender              0\n",
       "car                 0\n",
       "reality             0\n",
       "child_num           0\n",
       "income_total        0\n",
       "income_type         0\n",
       "edu_type            0\n",
       "family_type         0\n",
       "house_type          0\n",
       "DAYS_BIRTH          0\n",
       "DAYS_EMPLOYED       0\n",
       "FLAG_MOBIL          0\n",
       "work_phone          0\n",
       "phone               0\n",
       "email               0\n",
       "occyp_type       8171\n",
       "family_size         0\n",
       "begin_month         0\n",
       "dtype: int64"
      ]
     },
     "execution_count": 13,
     "metadata": {},
     "output_type": "execute_result"
    }
   ],
   "source": [
    "data.isna().sum()"
   ]
  },
  {
   "cell_type": "code",
   "execution_count": 14,
   "metadata": {},
   "outputs": [
    {
     "data": {
      "text/plain": [
       "gender              0\n",
       "car                 0\n",
       "reality             0\n",
       "child_num           0\n",
       "income_total        0\n",
       "income_type         0\n",
       "edu_type            0\n",
       "family_type         0\n",
       "house_type          0\n",
       "DAYS_BIRTH          0\n",
       "DAYS_EMPLOYED       0\n",
       "FLAG_MOBIL          0\n",
       "work_phone          0\n",
       "phone               0\n",
       "email               0\n",
       "occyp_type       3152\n",
       "family_size         0\n",
       "begin_month         0\n",
       "dtype: int64"
      ]
     },
     "execution_count": 14,
     "metadata": {},
     "output_type": "execute_result"
    }
   ],
   "source": [
    "test.isna().sum()"
   ]
  },
  {
   "cell_type": "markdown",
   "metadata": {},
   "source": [
    "#### column: DAYS_EMPLOYED, FLAG_MOBIL\n",
    "DAYS_EMPLOYED feature의 양수 값은 무직인 사람을 의미 하지만 365243으로 너무 큰 값을 가지고 있다고 판단, 추후 0 이상인 값을 모두 0으로 대체\n",
    "DAYS_EMPLOYED feature의 경우 모든 로우가 동일 값을 가지고 있으므로 전처리과정에서 제거\n"
   ]
  },
  {
   "cell_type": "markdown",
   "metadata": {},
   "source": [
    "### 강사 피드백\n",
    "- 좋은 인사이트네요. 실제로 대회에서도 작성하신 것과 같은 흐름으로 EDA 및 전처리를 진행합니다."
   ]
  },
  {
   "cell_type": "code",
   "execution_count": 15,
   "metadata": {},
   "outputs": [
    {
     "data": {
      "text/plain": [
       "Index(['gender', 'car', 'reality', 'child_num', 'income_total', 'income_type',\n",
       "       'edu_type', 'family_type', 'house_type', 'DAYS_BIRTH', 'DAYS_EMPLOYED',\n",
       "       'FLAG_MOBIL', 'work_phone', 'phone', 'email', 'occyp_type',\n",
       "       'family_size', 'begin_month'],\n",
       "      dtype='object')"
      ]
     },
     "execution_count": 15,
     "metadata": {},
     "output_type": "execute_result"
    }
   ],
   "source": [
    "data.columns"
   ]
  },
  {
   "cell_type": "code",
   "execution_count": 14,
   "metadata": {},
   "outputs": [
    {
     "data": {
      "text/plain": [
       "365243    4438\n",
       "Name: DAYS_EMPLOYED, dtype: int64"
      ]
     },
     "execution_count": 14,
     "metadata": {},
     "output_type": "execute_result"
    }
   ],
   "source": [
    "data[data[\"DAYS_EMPLOYED\"] > 0][\"DAYS_EMPLOYED\"].value_counts()"
   ]
  },
  {
   "cell_type": "code",
   "execution_count": 65,
   "metadata": {
    "tags": []
   },
   "outputs": [
    {
     "data": {
      "text/plain": [
       "<AxesSubplot:xlabel='child_num', ylabel='Density'>"
      ]
     },
     "execution_count": 65,
     "metadata": {},
     "output_type": "execute_result"
    },
    {
     "data": {
      "image/png": "[encoded data removed]",
      "text/plain": [
       "<Figure size 720x1080 with 6 Axes>"
      ]
     },
     "metadata": {
      "needs_background": "light"
     },
     "output_type": "display_data"
    }
   ],
   "source": [
    "fig, axes = plt.subplots(3,2, figsize = (10,15), sharex = False)\n",
    "sns.distplot(data[\"DAYS_BIRTH\"], ax = axes[0,0])\n",
    "sns.distplot(data[\"income_total\"], ax = axes[0,1])\n",
    "sns.distplot(data[\"DAYS_EMPLOYED\"], ax = axes[1,0])\n",
    "sns.distplot(data[\"DAYS_BIRTH\"], ax = axes[1,1])\n",
    "sns.distplot(data[\"begin_month\"], ax = axes[2,0])\n",
    "sns.distplot(data[\"child_num\"], ax = axes[2,1])"
   ]
  },
  {
   "cell_type": "markdown",
   "metadata": {},
   "source": [
    "### 강사 피드백\n",
    "- 단순하게 보기에는 incom_total, child_num 컬럼등에 log transformation을 통해 분포를 조정해줄 수 있겠습니다."
   ]
  },
  {
   "cell_type": "code",
   "execution_count": 66,
   "metadata": {},
   "outputs": [
    {
     "data": {
      "text/plain": [
       "<AxesSubplot:xlabel='DAYS_EMPLOYED', ylabel='Density'>"
      ]
     },
     "execution_count": 66,
     "metadata": {},
     "output_type": "execute_result"
    },
    {
     "data": {
      "image/png": "[encoded data removed]",
      "text/plain": [
       "<Figure size 432x288 with 1 Axes>"
      ]
     },
     "metadata": {
      "needs_background": "light"
     },
     "output_type": "display_data"
    }
   ],
   "source": [
    "g_data = data.copy()\n",
    "g_data[\"DAYS_EMPLOYED\"] = g_data[\"DAYS_EMPLOYED\"].apply(lambda x: 0 if x >= 0 else x*-1)\n",
    "sns.distplot(np.log1p(g_data[\"DAYS_EMPLOYED\"]))"
   ]
  },
  {
   "cell_type": "code",
   "execution_count": 78,
   "metadata": {},
   "outputs": [
    {
     "data": {
      "text/plain": [
       "<AxesSubplot:xlabel='income_total', ylabel='Density'>"
      ]
     },
     "execution_count": 78,
     "metadata": {},
     "output_type": "execute_result"
    },
    {
     "data": {
      "image/png": "[encoded data removed]",
      "text/plain": [
       "<Figure size 432x288 with 1 Axes>"
      ]
     },
     "metadata": {
      "needs_background": "light"
     },
     "output_type": "display_data"
    }
   ],
   "source": [
    "sns.distplot(np.log(g_data[\"income_total\"]))"
   ]
  },
  {
   "cell_type": "markdown",
   "metadata": {},
   "source": [
    "#### target value의 비율\n",
    "credit: \n",
    "낮을 수록 높은 신용의 신용카드 사용자를 의미함"
   ]
  },
  {
   "cell_type": "code",
   "execution_count": 77,
   "metadata": {},
   "outputs": [
    {
     "data": {
      "text/plain": [
       "2    0.641343\n",
       "1    0.236875\n",
       "0    0.121783\n",
       "dtype: float64"
      ]
     },
     "execution_count": 77,
     "metadata": {},
     "output_type": "execute_result"
    }
   ],
   "source": [
    "pd.Series(target).value_counts() / data.shape[0]"
   ]
  },
  {
   "cell_type": "markdown",
   "metadata": {},
   "source": [
    "### 강사 피드백\n",
    "- 분류 문제에서는 반드시 클래스의 비율을 확인하는 습관 좋습니다."
   ]
  },
  {
   "cell_type": "code",
   "execution_count": null,
   "metadata": {},
   "outputs": [],
   "source": []
  },
  {
   "cell_type": "code",
   "execution_count": null,
   "metadata": {},
   "outputs": [],
   "source": []
  },
  {
   "cell_type": "markdown",
   "metadata": {},
   "source": [
    "---"
   ]
  },
  {
   "cell_type": "markdown",
   "metadata": {},
   "source": [
    "### 데이터 전처리"
   ]
  },
  {
   "cell_type": "markdown",
   "metadata": {},
   "source": [
    "##### FLAG_MOBIL, work_phone, phone, email\n",
    "* 위 feature들은 이미  categorized\n",
    "\n",
    "##### DAYS_EMPLOYED 값 변경\n",
    "* 0 이상은 모두 0으로 대체하고 값 전체를 음수에서 양수로 변경\n",
    "\n",
    "##### FLAG_MOBIL feature 제거\n",
    "* 해당 변수의 경우 모든 row가 1값을 가짐 따라서 변수 제거 무의미하다고 판단.\n",
    "\n",
    "##### occyp_type feature\n",
    "* 해당 변수의 경우 NA값으로 들어가 있는 것도 유의한 정보일 수 있기 때문에 unknown으로 대체"
   ]
  },
  {
   "cell_type": "markdown",
   "metadata": {},
   "source": [
    "### 강사 피드백\n",
    "- 맞습니다. 결측치가 의미를 가지고 있는 경우도 있습니다. 이 부분을 항상 유념하시면 좋겠습니다."
   ]
  },
  {
   "cell_type": "code",
   "execution_count": 22,
   "metadata": {},
   "outputs": [
    {
     "data": {
      "text/plain": [
       "0    9144\n",
       "1     856\n",
       "Name: email, dtype: int64"
      ]
     },
     "execution_count": 22,
     "metadata": {},
     "output_type": "execute_result"
    }
   ],
   "source": [
    "# 해당 변수들은 소유 여부로 category feature로 판단, 해당 변수들의 value 확인\n",
    "data[\"email\"].value_counts()#,\"FLAG_MOBIL\" \"work_phone\", \"phone\",\"email\"]].value_counts()\n",
    "test[\"email\"].value_counts()"
   ]
  },
  {
   "cell_type": "code",
   "execution_count": 17,
   "metadata": {},
   "outputs": [
    {
     "name": "stdout",
     "output_type": "stream",
     "text": [
      "True\n",
      "True\n"
     ]
    }
   ],
   "source": [
    "##### FLAG_MOBIL feature의 경우 모든 row가 1값을 가짐 따라서 변수 제거 무의미하다고 판단.\n",
    "print(len(data) == data[\"FLAG_MOBIL\"].sum())\n",
    "print(len(test) == test[\"FLAG_MOBIL\"].sum())\n",
    "\n",
    "# data = data.drop(\"FLAG_MOBIL\", axis = 1)\n",
    "# test = test.drop(\"FLAG_MOBIL\", axis = 1)\n"
   ]
  },
  {
   "cell_type": "markdown",
   "metadata": {},
   "source": [
    "##### num_columns, cat_columns"
   ]
  },
  {
   "cell_type": "code",
   "execution_count": 23,
   "metadata": {},
   "outputs": [
    {
     "name": "stdout",
     "output_type": "stream",
     "text": [
      "True\n",
      "['gender', 'car', 'reality', 'income_type', 'edu_type', 'family_type', 'house_type', 'occyp_type']\n",
      "------------------------------------------------------------------------------------------\n",
      "['child_num', 'income_total', 'DAYS_BIRTH', 'DAYS_EMPLOYED', 'FLAG_MOBIL', 'work_phone', 'phone', 'email', 'family_size', 'begin_month']\n",
      "18\n"
     ]
    }
   ],
   "source": [
    "###### data: dtypes: float64(3), int64(7), object(8)\n",
    "###### test: dtypes: float64(3), int64(7), object(8)\n",
    "cat_col = data.select_dtypes(include = \"object\").columns.to_list()\n",
    "print(cat_col == test.select_dtypes(include = \"object\").columns.to_list())\n",
    "num_col = data.select_dtypes(exclude = \"object\").columns.to_list()\n",
    "print(cat_col)\n",
    "print(\"---\"*30)\n",
    "print(num_col)\n",
    "print(len(num_col)+len(cat_col))"
   ]
  },
  {
   "cell_type": "code",
   "execution_count": 37,
   "metadata": {},
   "outputs": [],
   "source": [
    "from sklearn.preprocessing import StandardScaler,MinMaxScaler,OneHotEncoder, LabelEncoder, RobustScaler\n",
    "\n",
    "def change_value(df):\n",
    "    \n",
    "    df = df.drop(\"FLAG_MOBIL\", axis = 1)\n",
    "    df[\"car\"] = df[\"car\"].replace({\"N\":\"car_N\", \"Y\":\"car_Y\"}) # one-hot encoding시 ohe.category_로 변수이름을 부여할 때 겹치므로 변경\n",
    "    df[\"reality\"] = df[\"reality\"].replace({\"N\":\"reality_N\", \"Y\":\"reality_Y\"}) \n",
    "#     df[\"Hired\"] = df[\"DAYS_EMPLOYED\"].apply(lambda x: 1 if x < 1 else 0)\n",
    "#     df[\"DAYS_EMPLOYED\"] = df[\"DAYS_EMPLOYED\"].apply(lambda x: 0 if x >= 0 else x)\n",
    "    df[\"occyp_type\"] = df[\"occyp_type\"].fillna(\"unknown\")\n",
    "    df[\"DAYS_BIRTH\"] = df[\"DAYS_BIRTH\"] * -1 # values 양수화\n",
    "    df[\"begin_month\"] = df[\"begin_month\"] * -1 # values 양수화\n",
    "    df[\"DAYS_EMPLOYED\"] = df[\"DAYS_EMPLOYED\"].apply(lambda x: 0 if x >= 0 else x*-1)\n",
    "    return df\n",
    "\n",
    "def log_scale(df):\n",
    "    df[\"DAYS_EMPLOYED\"] = np.log1p(df[\"DAYS_EMPLOYED\"])\n",
    "    df[\"income_total\"] = np.log1p(df[\"income_total\"])\n",
    "    return df\n",
    "\n",
    "def preprocess(X_train, X_valid, X_test):\n",
    "    X_train_tmp = X_train.copy()\n",
    "    X_valid_tmp = X_valid.copy()\n",
    "    X_test_tmp = X_test.copy()\n",
    "    \n",
    "    X_train_tmp = X_train_tmp.reset_index(drop = True)\n",
    "    X_valid_tmp = X_valid_tmp.reset_index(drop = True)\n",
    "    X_test_tmp = X_test_tmp.reset_index(drop = True)\n",
    "    \n",
    "    X_train_tmp = change_value(X_train_tmp)\n",
    "    X_valid_tmp = change_value(X_valid_tmp)\n",
    "    X_test_tmp = change_value(X_test_tmp)\n",
    "    \n",
    "    \n",
    "    # num_columns sd scaling\n",
    "    cat_columns = X_train_tmp.select_dtypes(include=\"object\").columns.to_list()\n",
    "    num_columns = X_train_tmp.select_dtypes(exclude= \"object\").columns.to_list()\n",
    "    \n",
    "    col_to_log = [\"DAYS_EMPLOYED\", \"income_total\"]\n",
    "    categorized_col = [\"work_phone\", \"phone\",\"email\"]\n",
    "    col_to_sd = list(set(num_columns) - set(col_to_log) - set(categorized_col))\n",
    "    \n",
    "\n",
    "#     rbscaler = RobustScaler()\n",
    "    sdscaler = StandardScaler()\n",
    "#     minmax_scaler = MinMaxScaler()\n",
    "    \n",
    "#     X_train_tmp[num_columns] = rbscaler.fit_transform(X_train_tmp[num_columns])\n",
    "#     X_valid_tmp[num_columns] = rbscaler.transform(X_valid_tmp[num_columns])\n",
    "#   \n",
    "#     X_test_tmp[num_columns] = rbscaler.transform(X_test_tmp[num_columns])\n",
    "#     X_train_tmp[col_minmax] = minmax_scaler.fit_transform(X_train_tmp[col_minmax])\n",
    "#     X_valid_tmp[col_minmax] = minmax_scaler.transform(X_valid_tmp[col_minmax])\n",
    "#     X_test_tmp[col_minmax] = minmax_scaler.transform(X_test_tmp[col_minmax])\n",
    "    \n",
    "    \n",
    "    \n",
    "    X_train_tmp[col_to_sd] = sdscaler.fit_transform(X_train_tmp[col_to_sd])\n",
    "    X_valid_tmp[col_to_sd] = sdscaler.transform(X_valid_tmp[col_to_sd])\n",
    "    X_test_tmp[col_to_sd] = sdscaler.transform(X_test_tmp[col_to_sd])\n",
    "    \n",
    "    \n",
    "    X_train_tmp = log_scale(X_train_tmp)\n",
    "    X_valid_tmp = log_scale(X_valid_tmp) \n",
    "    X_test_tmp = log_scale(X_test_tmp)\n",
    "\n",
    "#   ----------------------------------------------------------------------------------\n",
    "    # encoding \n",
    "    ohe = OneHotEncoder(sparse = False)\n",
    "    concat = pd.concat([X_train_tmp, X_valid_tmp, X_test_tmp], axis = 0)\n",
    "    ohe.fit(concat[cat_columns])\n",
    "    \n",
    "    print(X_train_tmp.shape)\n",
    "    ohe_columns = []\n",
    "    for col in ohe.categories_:\n",
    "        ohe_columns += col.tolist()\n",
    "        \n",
    "    train_ohe = ohe.transform(X_train_tmp[cat_columns])\n",
    "    valid_ohe = ohe.transform(X_valid_tmp[cat_columns])\n",
    "    test_ohe = ohe.transform(X_test_tmp[cat_columns])\n",
    "    print(X_train_tmp.shape)\n",
    "    \n",
    "    X_train_tmp = pd.concat([X_train_tmp, pd.DataFrame(train_ohe, columns= ohe_columns)], axis = 1)\n",
    "    X_valid_tmp = pd.concat([X_valid_tmp, pd.DataFrame(valid_ohe, columns= ohe_columns)], axis = 1)\n",
    "    X_test_tmp = pd.concat([X_test_tmp, pd.DataFrame(test_ohe, columns= ohe_columns)], axis = 1)\n",
    "    \n",
    "    print(X_train_tmp.shape)\n",
    "    X_train_tmp = X_train_tmp.drop(cat_columns, axis = 1)\n",
    "    X_valid_tmp = X_valid_tmp.drop(cat_columns, axis = 1)\n",
    "    X_test_tmp = X_test_tmp.drop(cat_columns, axis = 1)\n",
    "    \n",
    "    \n",
    "\n",
    "    \n",
    "    return X_train_tmp, X_valid_tmp, X_test_tmp\n",
    "    \n",
    "le = LabelEncoder()\n",
    "target = le.fit_transform(target)\n",
    "    "
   ]
  },
  {
   "cell_type": "markdown",
   "metadata": {},
   "source": [
    "### 강사 피드백\n",
    "- EDA에 기반한 Feature Engineering 부분도 좋습니다. Log Transformation 진행하신 것도 보이네요. 프로세스가 전반적으로 좋습니다."
   ]
  },
  {
   "cell_type": "markdown",
   "metadata": {},
   "source": [
    "----"
   ]
  },
  {
   "cell_type": "markdown",
   "metadata": {},
   "source": [
    "#### Testing functions"
   ]
  },
  {
   "cell_type": "code",
   "execution_count": 41,
   "metadata": {},
   "outputs": [],
   "source": [
    "from sklearn.model_selection import train_test_split\n",
    "\n",
    "xtrain, xvalid, ytrain, ytest = train_test_split(data, target, test_size=0.3,\n",
    "                                                 stratify= target, random_state= 42, shuffle= True)\n",
    "\n",
    "xtest = test.copy()\n"
   ]
  },
  {
   "cell_type": "code",
   "execution_count": 42,
   "metadata": {},
   "outputs": [
    {
     "name": "stdout",
     "output_type": "stream",
     "text": [
      "(18519, 17)\n",
      "(18519, 17)\n",
      "(18519, 63)\n"
     ]
    }
   ],
   "source": [
    "xtrain, xvalid, xtest = preprocess(xtrain, xvalid, xtest)"
   ]
  },
  {
   "cell_type": "code",
   "execution_count": 44,
   "metadata": {},
   "outputs": [
    {
     "data": {
      "text/html": [
       "<div>\n",
       "<style scoped>\n",
       "    .dataframe tbody tr th:only-of-type {\n",
       "        vertical-align: middle;\n",
       "    }\n",
       "\n",
       "    .dataframe tbody tr th {\n",
       "        vertical-align: top;\n",
       "    }\n",
       "\n",
       "    .dataframe thead th {\n",
       "        text-align: right;\n",
       "    }\n",
       "</style>\n",
       "<table border=\"1\" class=\"dataframe\">\n",
       "  <thead>\n",
       "    <tr style=\"text-align: right;\">\n",
       "      <th></th>\n",
       "      <th>child_num</th>\n",
       "      <th>income_total</th>\n",
       "      <th>DAYS_BIRTH</th>\n",
       "      <th>DAYS_EMPLOYED</th>\n",
       "      <th>work_phone</th>\n",
       "      <th>phone</th>\n",
       "      <th>email</th>\n",
       "      <th>family_size</th>\n",
       "      <th>begin_month</th>\n",
       "      <th>F</th>\n",
       "      <th>...</th>\n",
       "      <th>Low-skill Laborers</th>\n",
       "      <th>Managers</th>\n",
       "      <th>Medicine staff</th>\n",
       "      <th>Private service staff</th>\n",
       "      <th>Realty agents</th>\n",
       "      <th>Sales staff</th>\n",
       "      <th>Secretaries</th>\n",
       "      <th>Security staff</th>\n",
       "      <th>Waiters/barmen staff</th>\n",
       "      <th>unknown</th>\n",
       "    </tr>\n",
       "  </thead>\n",
       "  <tbody>\n",
       "    <tr>\n",
       "      <th>0</th>\n",
       "      <td>-0.565335</td>\n",
       "      <td>11.967187</td>\n",
       "      <td>-1.378369</td>\n",
       "      <td>6.352629</td>\n",
       "      <td>0</td>\n",
       "      <td>0</td>\n",
       "      <td>0</td>\n",
       "      <td>-1.286842</td>\n",
       "      <td>0.827445</td>\n",
       "      <td>1.0</td>\n",
       "      <td>...</td>\n",
       "      <td>0.0</td>\n",
       "      <td>0.0</td>\n",
       "      <td>0.0</td>\n",
       "      <td>0.0</td>\n",
       "      <td>0.0</td>\n",
       "      <td>0.0</td>\n",
       "      <td>0.0</td>\n",
       "      <td>0.0</td>\n",
       "      <td>0.0</td>\n",
       "      <td>0.0</td>\n",
       "    </tr>\n",
       "    <tr>\n",
       "      <th>1</th>\n",
       "      <td>-0.565335</td>\n",
       "      <td>11.547337</td>\n",
       "      <td>1.327989</td>\n",
       "      <td>8.355850</td>\n",
       "      <td>0</td>\n",
       "      <td>0</td>\n",
       "      <td>0</td>\n",
       "      <td>-0.206511</td>\n",
       "      <td>-1.100602</td>\n",
       "      <td>1.0</td>\n",
       "      <td>...</td>\n",
       "      <td>0.0</td>\n",
       "      <td>0.0</td>\n",
       "      <td>0.0</td>\n",
       "      <td>0.0</td>\n",
       "      <td>0.0</td>\n",
       "      <td>0.0</td>\n",
       "      <td>0.0</td>\n",
       "      <td>0.0</td>\n",
       "      <td>0.0</td>\n",
       "      <td>0.0</td>\n",
       "    </tr>\n",
       "    <tr>\n",
       "      <th>2</th>\n",
       "      <td>-0.565335</td>\n",
       "      <td>11.967187</td>\n",
       "      <td>-0.463571</td>\n",
       "      <td>8.361942</td>\n",
       "      <td>1</td>\n",
       "      <td>0</td>\n",
       "      <td>0</td>\n",
       "      <td>-0.206511</td>\n",
       "      <td>0.164679</td>\n",
       "      <td>0.0</td>\n",
       "      <td>...</td>\n",
       "      <td>0.0</td>\n",
       "      <td>0.0</td>\n",
       "      <td>0.0</td>\n",
       "      <td>0.0</td>\n",
       "      <td>0.0</td>\n",
       "      <td>0.0</td>\n",
       "      <td>0.0</td>\n",
       "      <td>0.0</td>\n",
       "      <td>0.0</td>\n",
       "      <td>0.0</td>\n",
       "    </tr>\n",
       "    <tr>\n",
       "      <th>3</th>\n",
       "      <td>-0.565335</td>\n",
       "      <td>12.100718</td>\n",
       "      <td>-0.717946</td>\n",
       "      <td>5.726848</td>\n",
       "      <td>1</td>\n",
       "      <td>1</td>\n",
       "      <td>0</td>\n",
       "      <td>-0.206511</td>\n",
       "      <td>1.429959</td>\n",
       "      <td>1.0</td>\n",
       "      <td>...</td>\n",
       "      <td>0.0</td>\n",
       "      <td>0.0</td>\n",
       "      <td>0.0</td>\n",
       "      <td>0.0</td>\n",
       "      <td>0.0</td>\n",
       "      <td>0.0</td>\n",
       "      <td>0.0</td>\n",
       "      <td>0.0</td>\n",
       "      <td>0.0</td>\n",
       "      <td>1.0</td>\n",
       "    </tr>\n",
       "    <tr>\n",
       "      <th>4</th>\n",
       "      <td>0.760078</td>\n",
       "      <td>11.119898</td>\n",
       "      <td>0.144552</td>\n",
       "      <td>8.847935</td>\n",
       "      <td>0</td>\n",
       "      <td>0</td>\n",
       "      <td>0</td>\n",
       "      <td>0.873821</td>\n",
       "      <td>0.224930</td>\n",
       "      <td>1.0</td>\n",
       "      <td>...</td>\n",
       "      <td>0.0</td>\n",
       "      <td>0.0</td>\n",
       "      <td>0.0</td>\n",
       "      <td>0.0</td>\n",
       "      <td>0.0</td>\n",
       "      <td>0.0</td>\n",
       "      <td>0.0</td>\n",
       "      <td>0.0</td>\n",
       "      <td>0.0</td>\n",
       "      <td>0.0</td>\n",
       "    </tr>\n",
       "  </tbody>\n",
       "</table>\n",
       "<p>5 rows × 55 columns</p>\n",
       "</div>"
      ],
      "text/plain": [
       "   child_num  income_total  DAYS_BIRTH  DAYS_EMPLOYED  work_phone  phone  \\\n",
       "0  -0.565335     11.967187   -1.378369       6.352629           0      0   \n",
       "1  -0.565335     11.547337    1.327989       8.355850           0      0   \n",
       "2  -0.565335     11.967187   -0.463571       8.361942           1      0   \n",
       "3  -0.565335     12.100718   -0.717946       5.726848           1      1   \n",
       "4   0.760078     11.119898    0.144552       8.847935           0      0   \n",
       "\n",
       "   email  family_size  begin_month    F  ...  Low-skill Laborers  Managers  \\\n",
       "0      0    -1.286842     0.827445  1.0  ...                 0.0       0.0   \n",
       "1      0    -0.206511    -1.100602  1.0  ...                 0.0       0.0   \n",
       "2      0    -0.206511     0.164679  0.0  ...                 0.0       0.0   \n",
       "3      0    -0.206511     1.429959  1.0  ...                 0.0       0.0   \n",
       "4      0     0.873821     0.224930  1.0  ...                 0.0       0.0   \n",
       "\n",
       "   Medicine staff  Private service staff  Realty agents  Sales staff  \\\n",
       "0             0.0                    0.0            0.0          0.0   \n",
       "1             0.0                    0.0            0.0          0.0   \n",
       "2             0.0                    0.0            0.0          0.0   \n",
       "3             0.0                    0.0            0.0          0.0   \n",
       "4             0.0                    0.0            0.0          0.0   \n",
       "\n",
       "   Secretaries  Security staff  Waiters/barmen staff  unknown  \n",
       "0          0.0             0.0                   0.0      0.0  \n",
       "1          0.0             0.0                   0.0      0.0  \n",
       "2          0.0             0.0                   0.0      0.0  \n",
       "3          0.0             0.0                   0.0      1.0  \n",
       "4          0.0             0.0                   0.0      0.0  \n",
       "\n",
       "[5 rows x 55 columns]"
      ]
     },
     "execution_count": 44,
     "metadata": {},
     "output_type": "execute_result"
    }
   ],
   "source": [
    "xtrain.head()"
   ]
  },
  {
   "cell_type": "markdown",
   "metadata": {},
   "source": [
    "-----"
   ]
  },
  {
   "cell_type": "markdown",
   "metadata": {},
   "source": [
    "### LGBM "
   ]
  },
  {
   "cell_type": "code",
   "execution_count": 54,
   "metadata": {},
   "outputs": [],
   "source": [
    "from lightgbm import LGBMClassifier\n",
    "from sklearn.model_selection import StratifiedKFold\n",
    "from sklearn.metrics import f1_score, recall_score, log_loss\n",
    "\n"
   ]
  },
  {
   "cell_type": "code",
   "execution_count": null,
   "metadata": {},
   "outputs": [],
   "source": [
    "#### "
   ]
  },
  {
   "cell_type": "code",
   "execution_count": 79,
   "metadata": {
    "tags": []
   },
   "outputs": [
    {
     "name": "stdout",
     "output_type": "stream",
     "text": [
      "(21165, 17)\n",
      "(21165, 17)\n",
      "(21165, 63)\n",
      "Training until validation scores don't improve for 100 rounds\n",
      "[100]\ttraining's multi_logloss: 0.649422\tvalid_1's multi_logloss: 0.749508\n",
      "[200]\ttraining's multi_logloss: 0.565422\tvalid_1's multi_logloss: 0.734962\n",
      "[300]\ttraining's multi_logloss: 0.500884\tvalid_1's multi_logloss: 0.73033\n",
      "[400]\ttraining's multi_logloss: 0.450442\tvalid_1's multi_logloss: 0.729252\n",
      "Early stopping, best iteration is:\n",
      "[386]\ttraining's multi_logloss: 0.456014\tvalid_1's multi_logloss: 0.728353\n",
      "Fold 0, train logloss: 0.45601380179312856, valid logloss: 0.7283534003579331\n",
      "(21165, 17)\n",
      "(21165, 17)\n",
      "(21165, 63)\n",
      "Training until validation scores don't improve for 100 rounds\n",
      "[100]\ttraining's multi_logloss: 0.649573\tvalid_1's multi_logloss: 0.76394\n",
      "[200]\ttraining's multi_logloss: 0.561506\tvalid_1's multi_logloss: 0.749491\n",
      "[300]\ttraining's multi_logloss: 0.49726\tvalid_1's multi_logloss: 0.746923\n",
      "Early stopping, best iteration is:\n",
      "[294]\ttraining's multi_logloss: 0.500647\tvalid_1's multi_logloss: 0.74633\n",
      "Fold 1, train logloss: 0.5006469290468979, valid logloss: 0.7463300791329487\n",
      "(21166, 17)\n",
      "(21166, 17)\n",
      "(21166, 63)\n",
      "Training until validation scores don't improve for 100 rounds\n",
      "[100]\ttraining's multi_logloss: 0.650104\tvalid_1's multi_logloss: 0.760701\n",
      "[200]\ttraining's multi_logloss: 0.562551\tvalid_1's multi_logloss: 0.745306\n",
      "[300]\ttraining's multi_logloss: 0.498994\tvalid_1's multi_logloss: 0.742822\n",
      "Early stopping, best iteration is:\n",
      "[290]\ttraining's multi_logloss: 0.504105\tvalid_1's multi_logloss: 0.74229\n",
      "Fold 2, train logloss: 0.5041049282129766, valid logloss: 0.7422896433970158\n",
      "(21166, 17)\n",
      "(21166, 17)\n",
      "(21166, 63)\n",
      "Training until validation scores don't improve for 100 rounds\n",
      "[100]\ttraining's multi_logloss: 0.646991\tvalid_1's multi_logloss: 0.752684\n",
      "[200]\ttraining's multi_logloss: 0.560466\tvalid_1's multi_logloss: 0.738836\n",
      "[300]\ttraining's multi_logloss: 0.497459\tvalid_1's multi_logloss: 0.733138\n",
      "[400]\ttraining's multi_logloss: 0.445143\tvalid_1's multi_logloss: 0.733574\n",
      "Early stopping, best iteration is:\n",
      "[306]\ttraining's multi_logloss: 0.493744\tvalid_1's multi_logloss: 0.73227\n",
      "Fold 3, train logloss: 0.49374424045522, valid logloss: 0.7322698249655141\n",
      "(21166, 17)\n",
      "(21166, 17)\n",
      "(21166, 63)\n",
      "Training until validation scores don't improve for 100 rounds\n",
      "[100]\ttraining's multi_logloss: 0.649606\tvalid_1's multi_logloss: 0.75418\n",
      "[200]\ttraining's multi_logloss: 0.562291\tvalid_1's multi_logloss: 0.741968\n",
      "[300]\ttraining's multi_logloss: 0.499525\tvalid_1's multi_logloss: 0.738174\n",
      "[400]\ttraining's multi_logloss: 0.449378\tvalid_1's multi_logloss: 0.739588\n",
      "Early stopping, best iteration is:\n",
      "[323]\ttraining's multi_logloss: 0.48704\tvalid_1's multi_logloss: 0.737332\n",
      "Fold 4, train logloss: 0.4870396055844825, valid logloss: 0.7373317173535022\n",
      "Cross Validation Score : 0.7373\n"
     ]
    }
   ],
   "source": [
    "n_splits = 5\n",
    "skf = StratifiedKFold(n_splits, shuffle= True, random_state= 42)\n",
    "\n",
    "oof_pred = np.zeros([test.shape[0], le.classes_.shape[0]])\n",
    "logloss_score = []\n",
    "\n",
    "\n",
    "for i, (trn_idx, val_idx) in enumerate(skf.split(data, target)):\n",
    "    X_train, y_train = data.iloc[trn_idx,:], target[trn_idx]\n",
    "    X_valid, y_valid = data.iloc[val_idx,:], target[val_idx]\n",
    "\n",
    "\n",
    "    X_train, X_valid, X_test = preprocess(X_train, X_valid, test)\n",
    "\n",
    "    model = LGBMClassifier(n_estimators = 1000,\n",
    "                           objective= \"multiclass\",\n",
    "                           n_jobs= -1,\n",
    "                           random_state   = 42)\n",
    "\n",
    "    model.fit(X_train, y_train,\n",
    "              eval_set=[[X_train, y_train], [X_valid, y_valid]],\n",
    "              eval_metric='multi_logloss',\n",
    "              early_stopping_rounds=100,\n",
    "              verbose=100)\n",
    "    \n",
    "    logloss_score.append(log_loss(y_valid, model.predict_proba(X_valid)))\n",
    "    oof_pred += model.predict_proba(X_test) / n_splits\n",
    "    \n",
    "    print(\"Fold {0}, train logloss: {1}, valid logloss: {2}\".format(i, \n",
    "                                                                    log_loss(y_train, model.predict_proba(X_train)),\n",
    "                                                                    log_loss(y_valid, model.predict_proba(X_valid))))\n",
    "    \n",
    "    cv_loss = np.mean(logloss_score)\n",
    "    \n",
    "print(\"Cross Validation Score : {:.4f}\".format(np.mean(cv_loss)))"
   ]
  },
  {
   "cell_type": "code",
   "execution_count": 29,
   "metadata": {},
   "outputs": [
    {
     "data": {
      "text/plain": [
       "array([[0.04966596, 0.0878629 , 0.86247113],\n",
       "       [0.21393746, 0.1559938 , 0.63006874],\n",
       "       [0.04297777, 0.09842015, 0.85860208],\n",
       "       ...,\n",
       "       [0.02298558, 0.05822433, 0.91879008],\n",
       "       [0.06963534, 0.20909187, 0.72127279],\n",
       "       [0.07383287, 0.20612571, 0.72004142]])"
      ]
     },
     "execution_count": 29,
     "metadata": {},
     "output_type": "execute_result"
    }
   ],
   "source": [
    "oof_pred"
   ]
  },
  {
   "cell_type": "code",
   "execution_count": 30,
   "metadata": {},
   "outputs": [
    {
     "data": {
      "text/plain": [
       "[0.7297482236241442,\n",
       " 0.7476995569721735,\n",
       " 0.7445488266795288,\n",
       " 0.7331182645620244,\n",
       " 0.7399159816223546]"
      ]
     },
     "execution_count": 30,
     "metadata": {},
     "output_type": "execute_result"
    }
   ],
   "source": [
    "logloss_score"
   ]
  },
  {
   "cell_type": "markdown",
   "metadata": {},
   "source": [
    "### 강사 피드백\n",
    "- 전반적으로 흠 잡을 부분 없이 깔끔하게 파이프라인을 작성해주셔서 코멘트가 적습니다. 기본적인 머신러닝 파이프라인에 대한 이해는 갖추신듯 합니다.\n",
    "- 추가적으로 Hyper Parameter 튜닝 툴인 NNI에 실험 관리 툴인 Sacred, MLFlow, WanDB 등을 공부해서 적용해보세요. 세개 중 가장 사용하기 쉬운 것은 WanDB 입니다.\n",
    "    - 구글링 해보시면 주로 딥러닝 모델에 적용되는 예제가 많은데, 사용하는 방법은 크게 다르지 않으니 nni 마지막에 final reports 하는 부분에 wandb에 기록하도록 사용해도 괜찮을 것 같네요.\n",
    "- 해당 피드백 이외에 추가로 문의하실 부분은 kcs93023@gmail.com 이쪽으로 연락주시면 회신 드리겠습니다."
   ]
  }
 ],
 "metadata": {
  "kernelspec": {
   "display_name": "Python 3",
   "language": "python",
   "name": "python3"
  },
  "language_info": {
   "codemirror_mode": {
    "name": "ipython",
    "version": 3
   },
   "file_extension": ".py",
   "mimetype": "text/x-python",
   "name": "python",
   "nbconvert_exporter": "python",
   "pygments_lexer": "ipython3",
   "version": "3.7.6"
  },
  "toc": {
   "base_numbering": 1,
   "nav_menu": {},
   "number_sections": true,
   "sideBar": true,
   "skip_h1_title": false,
   "title_cell": "Table of Contents",
   "title_sidebar": "Contents",
   "toc_cell": false,
   "toc_position": {},
   "toc_section_display": true,
   "toc_window_display": false
  }
 },
 "nbformat": 4,
 "nbformat_minor": 5
}
